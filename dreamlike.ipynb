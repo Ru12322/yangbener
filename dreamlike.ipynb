{
  "cells": [
    {
      "cell_type": "markdown",
      "metadata": {
        "id": "view-in-github",
        "colab_type": "text"
      },
      "source": [
        "<a href=\"https://colab.research.google.com/github/Ru12322/yangbener/blob/main/dreamlike.ipynb\" target=\"_parent\"><img src=\"https://colab.research.google.com/assets/colab-badge.svg\" alt=\"Open In Colab\"/></a>"
      ]
    },
    {
      "cell_type": "code",
      "execution_count": null,
      "metadata": {
        "id": "sBbcB4vwj_jm",
        "colab": {
          "base_uri": "https://localhost:8080/"
        },
        "outputId": "ce5adec2-f64f-48e5-955f-9518cf3b3cdf"
      },
      "outputs": [
        {
          "output_type": "stream",
          "name": "stdout",
          "text": [
            "Cloning into 'stable-diffusion-webui'...\n",
            "remote: Enumerating objects: 13437, done.\u001b[K\n",
            "remote: Total 13437 (delta 0), reused 0 (delta 0), pack-reused 13437\u001b[K\n",
            "Receiving objects: 100% (13437/13437), 23.50 MiB | 30.70 MiB/s, done.\n",
            "Resolving deltas: 100% (9625/9625), done.\n",
            "Cloning into '/content/stable-diffusion-webui/extensions/stable-diffusion-webui-images-browser'...\n",
            "remote: Enumerating objects: 143, done.\u001b[K\n",
            "remote: Counting objects: 100% (27/27), done.\u001b[K\n",
            "remote: Compressing objects: 100% (16/16), done.\u001b[K\n",
            "remote: Total 143 (delta 10), reused 17 (delta 9), pack-reused 116\u001b[K\n",
            "Receiving objects: 100% (143/143), 41.07 KiB | 8.21 MiB/s, done.\n",
            "Resolving deltas: 100% (48/48), done.\n",
            "\u001b[2K     \u001b[90m━━━━━━━━━━━━━━━━━━━━━━━━━━━━━━━━━━━━━━━━\u001b[0m \u001b[32m47.4/47.4 MB\u001b[0m \u001b[31m11.6 MB/s\u001b[0m eta \u001b[36m0:00:00\u001b[0m\n",
            "\u001b[?25h  % Total    % Received % Xferd  Average Speed   Time    Time     Time  Current\n",
            "                                 Dload  Upload   Total   Spent    Left  Speed\n",
            "100  1165  100  1165    0     0   4236      0 --:--:-- --:--:-- --:--:--  4221\n",
            "100 2034M  100 2034M    0     0   240M      0  0:00:08  0:00:08 --:--:--  239M\n",
            "/content/stable-diffusion-webui\n",
            "Note: checking out '11d432d'.\n",
            "\n",
            "You are in 'detached HEAD' state. You can look around, make experimental\n",
            "changes and commit them, and you can discard any commits you make in this\n",
            "state without impacting any branches by performing another checkout.\n",
            "\n",
            "If you want to create a new branch to retain commits you create, you may\n",
            "do so (now or later) by using -b with the checkout command again. Example:\n",
            "\n",
            "  git checkout -b <new-branch-name>\n",
            "\n",
            "HEAD is now at 11d432d add refresh buttons to checkpoint merger\n",
            "Python 3.8.16 (default, Dec  7 2022, 01:12:13) \n",
            "[GCC 7.5.0]\n",
            "Commit hash: 11d432d92d63660c516540dcb48faac87669b4f0\n",
            "Installing gfpgan\n",
            "Installing clip\n",
            "Installing open_clip\n",
            "Cloning Stable Diffusion into repositories/stable-diffusion-stability-ai...\n",
            "Cloning Taming Transformers into repositories/taming-transformers...\n",
            "Cloning K-diffusion into repositories/k-diffusion...\n",
            "Cloning CodeFormer into repositories/CodeFormer...\n",
            "Cloning BLIP into repositories/BLIP...\n",
            "Installing requirements for CodeFormer\n",
            "Installing requirements for Web UI\n",
            "Launching Web UI with arguments: --share --gradio-debug --medvram --disable-safe-unpickle --xformers\n",
            "LatentDiffusion: Running in eps-prediction mode\n",
            "DiffusionWrapper has 859.52 M params.\n",
            "Downloading: 100% 939k/939k [00:00<00:00, 3.11MB/s]\n",
            "Downloading: 100% 512k/512k [00:00<00:00, 2.10MB/s]\n",
            "Downloading: 100% 389/389 [00:00<00:00, 265kB/s]\n",
            "Downloading: 100% 905/905 [00:00<00:00, 815kB/s]\n",
            "Downloading: 100% 4.41k/4.41k [00:00<00:00, 3.73MB/s]\n",
            "Downloading: 100% 1.59G/1.59G [00:27<00:00, 63.0MB/s]\n",
            "Loading weights [14e1ef5d] from /content/stable-diffusion-webui/models/Stable-diffusion/dreamlike.ckpt\n",
            "Applying xformers cross attention optimization.\n",
            "Model loaded.\n",
            "Textual inversion embeddings loaded(0): \n",
            "Running on local URL:  http://127.0.0.1:7860\n",
            "Running on public URL: https://6cb170ba5b66bff6.gradio.app\n",
            "\n",
            "This share link expires in 72 hours. For free permanent hosting and GPU upgrades (NEW!), check out Spaces: https://huggingface.co/spaces\n"
          ]
        }
      ],
      "source": [
        "!git clone https://gitgud.io/AUTOMATIC1111/stable-diffusion-webui.git\n",
        "!git clone https://github.com/yfszzx/stable-diffusion-webui-images-browser /content/stable-diffusion-webui/extensions/stable-diffusion-webui-images-browser\n",
        "%pip install -q https://github.com/nolanaatama/xformers-wheels/releases/download/xformers/xformers-0.0.15.dev0+4c06c79.d20221205-cp38-cp38-linux_x86_64.whl\n",
        "!curl -Lo dreamlike.ckpt https://huggingface.co/dreamlike-art/dreamlike-diffusion-1.0/resolve/main/dreamlike-diffusion-1.0.ckpt\n",
        "!mv \"/content/dreamlike.ckpt\" \"/content/stable-diffusion-webui/models/Stable-diffusion\"\n",
        "%cd /content/stable-diffusion-webui\n",
        "!git checkout 11d432d # temporary fix\n",
        "!COMMANDLINE_ARGS=\"--share --gradio-debug --medvram --disable-safe-unpickle --xformers\" REQS_FILE=\"requirements.txt\" python launch.py"
      ]
    },
    {
      "cell_type": "markdown",
      "metadata": {
        "id": "fhwIXzcgfkoR"
      },
      "source": [
        "# 📚 GitHub for more: [_@nolanaatama_](https://github.com/nolanaatama)\n",
        "# 📦 Repo: [Github](https://github.com/nolanaatama/sd-dreamlike-colab)"
      ]
    }
  ],
  "metadata": {
    "accelerator": "GPU",
    "colab": {
      "provenance": [],
      "include_colab_link": true
    },
    "gpuClass": "standard",
    "kernelspec": {
      "display_name": "Python 3",
      "name": "python3"
    },
    "language_info": {
      "name": "python"
    }
  },
  "nbformat": 4,
  "nbformat_minor": 0
}